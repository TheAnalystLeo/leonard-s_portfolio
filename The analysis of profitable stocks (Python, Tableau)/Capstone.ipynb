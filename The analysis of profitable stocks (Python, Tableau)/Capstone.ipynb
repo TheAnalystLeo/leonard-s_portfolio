{
 "cells": [
  {
   "cell_type": "markdown",
   "id": "3fb5ed93",
   "metadata": {},
   "source": [
    "# Analysis of IPO companies that have potential to make profitable returns"
   ]
  },
  {
   "cell_type": "markdown",
   "id": "140aae60",
   "metadata": {},
   "source": [
    "---"
   ]
  },
  {
   "cell_type": "markdown",
   "id": "51c9eb08",
   "metadata": {},
   "source": [
    "## Imported Libraries\n",
    "---"
   ]
  },
  {
   "cell_type": "code",
   "execution_count": 664,
   "id": "dd054015",
   "metadata": {},
   "outputs": [],
   "source": [
    "import pandas as pd\n",
    "import numpy as np\n",
    "import matplotlib.pyplot as plt\n",
    "import seaborn as sns\n",
    "from scipy.stats import iqr\n",
    "\n",
    "from sklearn.model_selection import train_test_split, GridSearchCV\n",
    "from sklearn.metrics import accuracy_score, confusion_matrix\n",
    "from sklearn.preprocessing import StandardScaler\n",
    "from sklearn.feature_selection import SelectKBest, f_classif\n",
    "from sklearn.neighbors import KNeighborsClassifier\n",
    "from sklearn.tree import DecisionTreeClassifier\n",
    "from sklearn.pipeline import Pipeline\n",
    "from sklearn.linear_model import LogisticRegression\n",
    "from sklearn.inspection import permutation_importance\n",
    "\n",
    "%matplotlib inline"
   ]
  },
  {
   "cell_type": "markdown",
   "id": "e0a80920",
   "metadata": {},
   "source": [
    "## Imported IPO CSV dataset\n",
    "---"
   ]
  },
  {
   "cell_type": "code",
   "execution_count": 665,
   "id": "796cafc1",
   "metadata": {},
   "outputs": [],
   "source": [
    "ipo_data = pd.read_csv('./Dataset/IPO_Dataset.csv', encoding='latin1', low_memory=False)"
   ]
  },
  {
   "cell_type": "code",
   "execution_count": 666,
   "id": "04fc3cd8",
   "metadata": {},
   "outputs": [
    {
     "name": "stdout",
     "output_type": "stream",
     "text": [
      "Rows: 3762, Columns: 1664\n"
     ]
    }
   ],
   "source": [
    "# Number of rows and columns in dataset\n",
    "print(f'Rows: {ipo_data.shape[0]}, Columns: {ipo_data.shape[1]}')"
   ]
  },
  {
   "cell_type": "markdown",
   "id": "9c06de72",
   "metadata": {},
   "source": [
    "## Removed duplicates\n",
    "---"
   ]
  },
  {
   "cell_type": "code",
   "execution_count": 667,
   "id": "54f0b254",
   "metadata": {},
   "outputs": [
    {
     "data": {
      "text/plain": [
       "Symbol\n",
       "MITT    64\n",
       "NWFL     1\n",
       "NWS      1\n",
       "NWSA     1\n",
       "NWY      1\n",
       "        ..\n",
       "FEX      1\n",
       "FEYE     1\n",
       "FF       1\n",
       "FFA      1\n",
       "ZYNE     1\n",
       "Name: count, Length: 3699, dtype: int64"
      ]
     },
     "execution_count": 667,
     "metadata": {},
     "output_type": "execute_result"
    }
   ],
   "source": [
    "# Checked for duplicates\n",
    "ipo_data['Symbol'].value_counts(ascending=False)"
   ]
  },
  {
   "cell_type": "code",
   "execution_count": 668,
   "id": "e883cc14",
   "metadata": {},
   "outputs": [
    {
     "data": {
      "text/plain": [
       "Symbol\n",
       "A       1\n",
       "NWFL    1\n",
       "NWS     1\n",
       "NWSA    1\n",
       "NWY     1\n",
       "       ..\n",
       "FEX     1\n",
       "FEYE    1\n",
       "FF      1\n",
       "FFA     1\n",
       "ZYNE    1\n",
       "Name: count, Length: 3699, dtype: int64"
      ]
     },
     "execution_count": 668,
     "metadata": {},
     "output_type": "execute_result"
    }
   ],
   "source": [
    "# Dropped duplicates\n",
    "ipo_data = ipo_data.drop_duplicates(subset=['Symbol'])\n",
    "\n",
    "# Checked for duplicates\n",
    "ipo_data['Symbol'].value_counts(ascending=False)"
   ]
  },
  {
   "cell_type": "markdown",
   "id": "431c66e8",
   "metadata": {},
   "source": [
    "## Dropped unnecessary columns\n",
    "---"
   ]
  },
  {
   "cell_type": "code",
   "execution_count": 669,
   "id": "9985f59e",
   "metadata": {},
   "outputs": [
    {
     "data": {
      "text/html": [
       "<div>\n",
       "<style scoped>\n",
       "    .dataframe tbody tr th:only-of-type {\n",
       "        vertical-align: middle;\n",
       "    }\n",
       "\n",
       "    .dataframe tbody tr th {\n",
       "        vertical-align: top;\n",
       "    }\n",
       "\n",
       "    .dataframe thead th {\n",
       "        text-align: right;\n",
       "    }\n",
       "</style>\n",
       "<table border=\"1\" class=\"dataframe\">\n",
       "  <thead>\n",
       "    <tr style=\"text-align: right;\">\n",
       "      <th></th>\n",
       "      <th>Symbol</th>\n",
       "      <th>DaysBetterThanSP</th>\n",
       "      <th>daysProfit</th>\n",
       "      <th>daysProfitGrouped</th>\n",
       "      <th>exactDiffernce</th>\n",
       "      <th>Year</th>\n",
       "      <th>Month</th>\n",
       "      <th>Day</th>\n",
       "      <th>dayOfWeek</th>\n",
       "      <th>closeDay0</th>\n",
       "      <th>...</th>\n",
       "      <th>usableCEOAge</th>\n",
       "      <th>usableCEOGender</th>\n",
       "      <th>usablePresidentAge</th>\n",
       "      <th>usablePresidentGender</th>\n",
       "      <th>FoundingDateGrouped</th>\n",
       "      <th>yearDifferenceGrouped</th>\n",
       "      <th>Profitable</th>\n",
       "      <th>Safe</th>\n",
       "      <th>HomeRunDay</th>\n",
       "      <th>HomeRun</th>\n",
       "    </tr>\n",
       "  </thead>\n",
       "  <tbody>\n",
       "    <tr>\n",
       "      <th>0</th>\n",
       "      <td>A</td>\n",
       "      <td>122</td>\n",
       "      <td>249</td>\n",
       "      <td>200+</td>\n",
       "      <td>NaN</td>\n",
       "      <td>1999</td>\n",
       "      <td>11</td>\n",
       "      <td>18</td>\n",
       "      <td>3</td>\n",
       "      <td>28.6358</td>\n",
       "      <td>...</td>\n",
       "      <td>Blank</td>\n",
       "      <td>Blank</td>\n",
       "      <td>Blank</td>\n",
       "      <td>Blank</td>\n",
       "      <td>1951 - 2000</td>\n",
       "      <td>Unknown</td>\n",
       "      <td>1</td>\n",
       "      <td>0</td>\n",
       "      <td>77.0</td>\n",
       "      <td>1</td>\n",
       "    </tr>\n",
       "    <tr>\n",
       "      <th>1</th>\n",
       "      <td>AAC</td>\n",
       "      <td>131</td>\n",
       "      <td>262</td>\n",
       "      <td>200+</td>\n",
       "      <td>232.0</td>\n",
       "      <td>2014</td>\n",
       "      <td>10</td>\n",
       "      <td>2</td>\n",
       "      <td>3</td>\n",
       "      <td>18.5000</td>\n",
       "      <td>...</td>\n",
       "      <td>40 - 49</td>\n",
       "      <td>male</td>\n",
       "      <td>Blank</td>\n",
       "      <td>Blank</td>\n",
       "      <td>2011 - present</td>\n",
       "      <td>Unknown</td>\n",
       "      <td>1</td>\n",
       "      <td>1</td>\n",
       "      <td>NaN</td>\n",
       "      <td>0</td>\n",
       "    </tr>\n",
       "    <tr>\n",
       "      <th>2</th>\n",
       "      <td>AAOI</td>\n",
       "      <td>125</td>\n",
       "      <td>262</td>\n",
       "      <td>200+</td>\n",
       "      <td>6054.0</td>\n",
       "      <td>2013</td>\n",
       "      <td>9</td>\n",
       "      <td>26</td>\n",
       "      <td>3</td>\n",
       "      <td>9.9600</td>\n",
       "      <td>...</td>\n",
       "      <td>Blank</td>\n",
       "      <td>Blank</td>\n",
       "      <td>Blank</td>\n",
       "      <td>Blank</td>\n",
       "      <td>1951 - 2000</td>\n",
       "      <td>Unknown</td>\n",
       "      <td>1</td>\n",
       "      <td>0</td>\n",
       "      <td>NaN</td>\n",
       "      <td>0</td>\n",
       "    </tr>\n",
       "    <tr>\n",
       "      <th>3</th>\n",
       "      <td>AAP</td>\n",
       "      <td>128</td>\n",
       "      <td>261</td>\n",
       "      <td>200+</td>\n",
       "      <td>NaN</td>\n",
       "      <td>2001</td>\n",
       "      <td>11</td>\n",
       "      <td>29</td>\n",
       "      <td>3</td>\n",
       "      <td>13.9000</td>\n",
       "      <td>...</td>\n",
       "      <td>Blank</td>\n",
       "      <td>Blank</td>\n",
       "      <td>Blank</td>\n",
       "      <td>Blank</td>\n",
       "      <td>1901 - 1950</td>\n",
       "      <td>Unknown</td>\n",
       "      <td>1</td>\n",
       "      <td>0</td>\n",
       "      <td>NaN</td>\n",
       "      <td>0</td>\n",
       "    </tr>\n",
       "    <tr>\n",
       "      <th>4</th>\n",
       "      <td>AAT</td>\n",
       "      <td>123</td>\n",
       "      <td>127</td>\n",
       "      <td>100 - 149</td>\n",
       "      <td>181.0</td>\n",
       "      <td>2011</td>\n",
       "      <td>1</td>\n",
       "      <td>13</td>\n",
       "      <td>3</td>\n",
       "      <td>21.2500</td>\n",
       "      <td>...</td>\n",
       "      <td>Blank</td>\n",
       "      <td>Blank</td>\n",
       "      <td>Blank</td>\n",
       "      <td>Blank</td>\n",
       "      <td>2001 - 2010</td>\n",
       "      <td>Unknown</td>\n",
       "      <td>0</td>\n",
       "      <td>0</td>\n",
       "      <td>NaN</td>\n",
       "      <td>0</td>\n",
       "    </tr>\n",
       "  </tbody>\n",
       "</table>\n",
       "<p>5 rows × 1664 columns</p>\n",
       "</div>"
      ],
      "text/plain": [
       "  Symbol  DaysBetterThanSP  daysProfit daysProfitGrouped  exactDiffernce  \\\n",
       "0      A               122         249              200+             NaN   \n",
       "1    AAC               131         262              200+           232.0   \n",
       "2   AAOI               125         262              200+          6054.0   \n",
       "3    AAP               128         261              200+             NaN   \n",
       "4    AAT               123         127         100 - 149           181.0   \n",
       "\n",
       "   Year  Month  Day  dayOfWeek  closeDay0  ...  usableCEOAge  usableCEOGender  \\\n",
       "0  1999     11   18          3    28.6358  ...         Blank            Blank   \n",
       "1  2014     10    2          3    18.5000  ...       40 - 49             male   \n",
       "2  2013      9   26          3     9.9600  ...         Blank            Blank   \n",
       "3  2001     11   29          3    13.9000  ...         Blank            Blank   \n",
       "4  2011      1   13          3    21.2500  ...         Blank            Blank   \n",
       "\n",
       "   usablePresidentAge  usablePresidentGender  FoundingDateGrouped  \\\n",
       "0               Blank                  Blank          1951 - 2000   \n",
       "1               Blank                  Blank       2011 - present   \n",
       "2               Blank                  Blank          1951 - 2000   \n",
       "3               Blank                  Blank          1901 - 1950   \n",
       "4               Blank                  Blank          2001 - 2010   \n",
       "\n",
       "   yearDifferenceGrouped  Profitable  Safe  HomeRunDay  HomeRun  \n",
       "0                Unknown           1     0        77.0        1  \n",
       "1                Unknown           1     1         NaN        0  \n",
       "2                Unknown           1     0         NaN        0  \n",
       "3                Unknown           1     0         NaN        0  \n",
       "4                Unknown           0     0         NaN        0  \n",
       "\n",
       "[5 rows x 1664 columns]"
      ]
     },
     "execution_count": 669,
     "metadata": {},
     "output_type": "execute_result"
    }
   ],
   "source": [
    "# Removed spaces in the column titles\n",
    "ipo_data.columns = ipo_data.columns.str.strip()\n",
    "ipo_data.head()"
   ]
  },
  {
   "cell_type": "code",
   "execution_count": 670,
   "id": "db39e2cb",
   "metadata": {},
   "outputs": [
    {
     "name": "stdout",
     "output_type": "stream",
     "text": [
      "Index(['highDay0', 'openDay0', 'lowDay0'], dtype='object')\n",
      "Index(['closeDay1', 'highDay1', 'openDay1', 'lowDay1', 'volumeDay1',\n",
      "       'closeDay2', 'highDay2', 'openDay2', 'lowDay2', 'volumeDay2',\n",
      "       'closeDay3', 'highDay3', 'openDay3', 'lowDay3', 'volumeDay3',\n",
      "       'closeDay4', 'highDay4', 'openDay4', 'lowDay4', 'volumeDay4',\n",
      "       'closeDay5', 'highDay5', 'openDay5', 'lowDay5', 'volumeDay5'],\n",
      "      dtype='object')\n",
      "Index(['highDay6', 'openDay6', 'lowDay6'], dtype='object')\n",
      "Index(['closeDay7', 'highDay7', 'openDay7', 'lowDay7', 'volumeDay7',\n",
      "       'closeDay8', 'highDay8', 'openDay8', 'lowDay8', 'volumeDay8',\n",
      "       ...\n",
      "       'closeDay27', 'highDay27', 'openDay27', 'lowDay27', 'volumeDay27',\n",
      "       'closeDay28', 'highDay28', 'openDay28', 'lowDay28', 'volumeDay28'],\n",
      "      dtype='object', length=110)\n",
      "Index(['highDay29', 'openDay29', 'lowDay29'], dtype='object')\n",
      "Index(['closeDay30', 'highDay30', 'openDay30', 'lowDay30', 'volumeDay30',\n",
      "       'closeDay31', 'highDay31', 'openDay31', 'lowDay31', 'volumeDay31',\n",
      "       ...\n",
      "       'closeDay57', 'highDay57', 'openDay57', 'lowDay57', 'volumeDay57',\n",
      "       'closeDay58', 'highDay58', 'openDay58', 'lowDay58', 'volumeDay58'],\n",
      "      dtype='object', length=145)\n",
      "Index(['highDay59', 'openDay59', 'lowDay59'], dtype='object')\n",
      "Index(['closeDay60', 'highDay60', 'openDay60', 'lowDay60', 'volumeDay60',\n",
      "       'closeDay61', 'highDay61', 'openDay61', 'lowDay61', 'volumeDay61',\n",
      "       ...\n",
      "       'closeDay87', 'highDay87', 'openDay87', 'lowDay87', 'volumeDay87',\n",
      "       'closeDay88', 'highDay88', 'openDay88', 'lowDay88', 'volumeDay88'],\n",
      "      dtype='object', length=145)\n",
      "Index(['highDay89', 'openDay89', 'lowDay89'], dtype='object')\n",
      "Index(['closeDay90', 'highDay90', 'openDay90', 'lowDay90', 'volumeDay90',\n",
      "       'closeDay91', 'highDay91', 'openDay91', 'lowDay91', 'volumeDay91',\n",
      "       ...\n",
      "       'closeDay177', 'highDay177', 'openDay177', 'lowDay177', 'volumeDay177',\n",
      "       'closeDay178', 'highDay178', 'openDay178', 'lowDay178', 'volumeDay178'],\n",
      "      dtype='object', length=445)\n",
      "Index(['highDay179', 'openDay179', 'lowDay179'], dtype='object')\n",
      "Index([], dtype='object')\n",
      "Index(['highDay261', 'openDay261', 'lowDay261'], dtype='object')\n",
      "Index(['YearFounded', 'exactDateFounded', 'yearDifference',\n",
      "       'Fiscal_year_ends_in_December_USDYearBeforeIPO',\n",
      "       'PremiumsYearBeforeIPO', 'Investment_income,_netYearBeforeIPO',\n",
      "       'Other_income_(loss)YearBeforeIPO', 'Total_revenuesYearBeforeIPO',\n",
      "       'Policyholder_benefits_and_claims_incurredYearBeforeIPO',\n",
      "       'Selling,_general_and_administrativeYearBeforeIPO',\n",
      "       ...\n",
      "       'Prepaid_pension_costsYearBeforeIPO', 'Regulatory_assetsYearBeforeIPO',\n",
      "       'Regulatory_liabilitiesYearBeforeIPO',\n",
      "       'Fiscal_year_ends_in_December_CLPYearBeforeIPO',\n",
      "       'Fiscal_year_ends_in_May_USDYearBeforeIPO',\n",
      "       'Fiscal_year_ends_in_December_JPYYearBeforeIPO',\n",
      "       'Fiscal_year_ends_in_December_CADYearBeforeIPO',\n",
      "       'Fiscal_year_ends_in_December_BRLYearBeforeIPO',\n",
      "       'Pensions_and_other_postretirement_benefitsYearBeforeIPO',\n",
      "       'Fiscal_year_ends_in_October_USDYearBeforeIPO'],\n",
      "      dtype='object', length=303)\n",
      "Index(['employeesGrouped', 'USACompany', 'FiscalMonth', 'usableCEOAge',\n",
      "       'usableCEOGender', 'usablePresidentAge', 'usablePresidentGender',\n",
      "       'FoundingDateGrouped', 'yearDifferenceGrouped', 'Profitable', 'Safe',\n",
      "       'HomeRunDay', 'HomeRun'],\n",
      "      dtype='object')\n"
     ]
    }
   ],
   "source": [
    "# Checked what range of index number to target, to choose which column could be dropped\n",
    "print(ipo_data.columns[10:13])\n",
    "print(ipo_data.columns[14:39])\n",
    "print(ipo_data.columns[40:43])\n",
    "print(ipo_data.columns[44:154])\n",
    "print(ipo_data.columns[155:158])\n",
    "print(ipo_data.columns[159:304])\n",
    "print(ipo_data.columns[305:308])\n",
    "print(ipo_data.columns[309:454])\n",
    "print(ipo_data.columns[455:458])\n",
    "print(ipo_data.columns[459:904])\n",
    "print(ipo_data.columns[905:908])\n",
    "print(ipo_data.columns[909:908])\n",
    "print(ipo_data.columns[1315:1318])\n",
    "print(ipo_data.columns[1344:1647])\n",
    "print(ipo_data.columns[1651:1664])"
   ]
  },
  {
   "cell_type": "code",
   "execution_count": 671,
   "id": "fb3aa1e9",
   "metadata": {},
   "outputs": [
    {
     "name": "stdout",
     "output_type": "stream",
     "text": [
      "<class 'pandas.core.frame.DataFrame'>\n",
      "Index: 3699 entries, 0 to 3761\n",
      "Data columns (total 51 columns):\n",
      " #   Column                      Non-Null Count  Dtype  \n",
      "---  ------                      --------------  -----  \n",
      " 0   Symbol                      3699 non-null   object \n",
      " 1   DaysBetterThanSP            3699 non-null   int64  \n",
      " 2   daysProfit                  3699 non-null   int64  \n",
      " 3   daysProfitGrouped           3699 non-null   object \n",
      " 4   exactDiffernce              1568 non-null   float64\n",
      " 5   Year                        3699 non-null   int64  \n",
      " 6   Month                       3699 non-null   int64  \n",
      " 7   Day                         3699 non-null   int64  \n",
      " 8   dayOfWeek                   3699 non-null   int64  \n",
      " 9   closeDay0                   3699 non-null   float64\n",
      " 10  volumeDay0                  3686 non-null   float64\n",
      " 11  closeDay6                   3696 non-null   float64\n",
      " 12  volumeDay6                  3683 non-null   float64\n",
      " 13  closeDay29                  3672 non-null   float64\n",
      " 14  volumeDay29                 3659 non-null   float64\n",
      " 15  closeDay59                  3647 non-null   float64\n",
      " 16  volumeDay59                 3634 non-null   float64\n",
      " 17  closeDay89                  3628 non-null   float64\n",
      " 18  volumeDay89                 3615 non-null   float64\n",
      " 19  closeDay179                 3531 non-null   float64\n",
      " 20  volumeDay179                3518 non-null   float64\n",
      " 21  closeDay261                 2592 non-null   float64\n",
      " 22  volumeDay261                2584 non-null   float64\n",
      " 23  Name                        3699 non-null   object \n",
      " 24  LastSale                    3698 non-null   float64\n",
      " 25  MarketCap                   3699 non-null   float64\n",
      " 26  ADR TSO                     106 non-null    float64\n",
      " 27  Sector                      3046 non-null   object \n",
      " 28  Industry                    3046 non-null   object \n",
      " 29  Summary Quote               3699 non-null   object \n",
      " 30  ipoDate                     3699 non-null   object \n",
      " 31  CEOTakeOver                 2677 non-null   float64\n",
      " 32  CEOAge                      2945 non-null   float64\n",
      " 33  CEOName                     3198 non-null   object \n",
      " 34  CEOGender                   3200 non-null   object \n",
      " 35  CEOInChargeDuringIPO        2844 non-null   object \n",
      " 36  PresidentTakeOver           2548 non-null   float64\n",
      " 37  PresidentAge                2633 non-null   float64\n",
      " 38  PresidentName               2970 non-null   object \n",
      " 39  PresidentGender             2971 non-null   object \n",
      " 40  presidentInChargeDuringIPO  2606 non-null   object \n",
      " 41  City                        2823 non-null   object \n",
      " 42  stateCountry                2822 non-null   object \n",
      " 43  FiscalDateEnd               2823 non-null   object \n",
      " 44  Revenue                     2606 non-null   float64\n",
      " 45  netIncome                   2818 non-null   float64\n",
      " 46  lastFiscalYearGrowth        1848 non-null   object \n",
      " 47  employees                   2823 non-null   object \n",
      " 48  MarketMonthTrend            3699 non-null   float64\n",
      " 49  Market3MonthTrend           3699 non-null   float64\n",
      " 50  Market6MonthTrend           3699 non-null   float64\n",
      "dtypes: float64(27), int64(6), object(18)\n",
      "memory usage: 1.5+ MB\n"
     ]
    }
   ],
   "source": [
    "# Dropped columns by index ranges\n",
    "dropped_columns = (list(ipo_data.columns[10:13]) + list(ipo_data.columns[14:39]) + list(ipo_data.columns[40:43]) + list(ipo_data.columns[44:154]) \n",
    "                 + list(ipo_data.columns[155:158]) + list(ipo_data.columns[159:304]) + list(ipo_data.columns[305:308])+ list(ipo_data.columns[309:454])\n",
    "                 + list(ipo_data.columns[455:458]) + list(ipo_data.columns[459:904]) + list(ipo_data.columns[905:908]) + list(ipo_data.columns[909:1314])\n",
    "                 + list(ipo_data.columns[1315:1318]) + list(ipo_data.columns[1344:1647]) + list(ipo_data.columns[1650:1664]))\n",
    "ipo_data.drop(columns= dropped_columns, inplace= True)\n",
    "\n",
    "# Checked columns\n",
    "ipo_data.info()"
   ]
  },
  {
   "cell_type": "code",
   "execution_count": 672,
   "id": "4e0bd5f2",
   "metadata": {},
   "outputs": [],
   "source": [
    "# Dropped more columns\n",
    "ipo_data = ipo_data.drop(columns = ['exactDiffernce', 'LastSale', 'ADR TSO', 'Industry', 'Summary Quote', 'City', 'FiscalDateEnd', 'lastFiscalYearGrowth'])\n",
    "dropped_columns2 = list(ipo_data.columns[26:30]) + list(ipo_data.columns[31:35])\n",
    "ipo_data.drop(columns= dropped_columns2, inplace= True)"
   ]
  },
  {
   "cell_type": "markdown",
   "id": "9bc86d60",
   "metadata": {},
   "source": [
    "## Checked for nulls\n",
    "---"
   ]
  },
  {
   "cell_type": "code",
   "execution_count": 673,
   "id": "8bdf059b",
   "metadata": {},
   "outputs": [
    {
     "data": {
      "text/plain": [
       "volumeDay261                  1115\n",
       "closeDay261                   1107\n",
       "presidentInChargeDuringIPO    1093\n",
       "Revenue                       1093\n",
       "netIncome                      881\n",
       "stateCountry                   877\n",
       "employees                      876\n",
       "CEOInChargeDuringIPO           855\n",
       "Sector                         653\n",
       "volumeDay179                   181\n",
       "closeDay179                    168\n",
       "volumeDay89                     84\n",
       "closeDay89                      71\n",
       "volumeDay59                     65\n",
       "closeDay59                      52\n",
       "volumeDay29                     40\n",
       "closeDay29                      27\n",
       "volumeDay6                      16\n",
       "volumeDay0                      13\n",
       "closeDay6                        3\n",
       "MarketMonthTrend                 0\n",
       "Market3MonthTrend                0\n",
       "ipoDate                          0\n",
       "Symbol                           0\n",
       "MarketCap                        0\n",
       "Name                             0\n",
       "DaysBetterThanSP                 0\n",
       "closeDay0                        0\n",
       "dayOfWeek                        0\n",
       "Day                              0\n",
       "Month                            0\n",
       "Year                             0\n",
       "daysProfitGrouped                0\n",
       "daysProfit                       0\n",
       "Market6MonthTrend                0\n",
       "dtype: int64"
      ]
     },
     "execution_count": 673,
     "metadata": {},
     "output_type": "execute_result"
    }
   ],
   "source": [
    "# Checked for nulls\n",
    "ipo_data.isnull().sum().sort_values(ascending=False)"
   ]
  },
  {
   "cell_type": "code",
   "execution_count": 674,
   "id": "32289f0a",
   "metadata": {},
   "outputs": [
    {
     "data": {
      "text/plain": [
       "Symbol                        False\n",
       "DaysBetterThanSP              False\n",
       "daysProfit                    False\n",
       "daysProfitGrouped             False\n",
       "Year                          False\n",
       "Month                         False\n",
       "Day                           False\n",
       "dayOfWeek                     False\n",
       "closeDay0                     False\n",
       "volumeDay0                    False\n",
       "closeDay6                     False\n",
       "volumeDay6                    False\n",
       "closeDay29                    False\n",
       "volumeDay29                   False\n",
       "closeDay59                    False\n",
       "volumeDay59                   False\n",
       "closeDay89                    False\n",
       "volumeDay89                   False\n",
       "closeDay179                   False\n",
       "volumeDay179                  False\n",
       "closeDay261                   False\n",
       "volumeDay261                  False\n",
       "Name                          False\n",
       "MarketCap                     False\n",
       "Sector                        False\n",
       "ipoDate                       False\n",
       "CEOInChargeDuringIPO          False\n",
       "presidentInChargeDuringIPO    False\n",
       "stateCountry                  False\n",
       "Revenue                       False\n",
       "netIncome                     False\n",
       "employees                     False\n",
       "MarketMonthTrend              False\n",
       "Market3MonthTrend             False\n",
       "Market6MonthTrend             False\n",
       "dtype: bool"
      ]
     },
     "execution_count": 674,
     "metadata": {},
     "output_type": "execute_result"
    }
   ],
   "source": [
    "# Dropped all rows with nulls\n",
    "ipo_data.dropna(inplace=True)\n",
    "\n",
    "# Checked for nulls\n",
    "ipo_data.isnull().any()"
   ]
  },
  {
   "cell_type": "markdown",
   "id": "2362012e",
   "metadata": {},
   "source": [
    "## Creation of metric columns\n",
    "---"
   ]
  },
  {
   "cell_type": "code",
   "execution_count": 675,
   "id": "c7425684",
   "metadata": {},
   "outputs": [],
   "source": [
    "# New column Profit Ratio was calculated by dividing closeDay261 by CloseDay0\n",
    "ipo_data['Profit_Ratio'] = ipo_data['closeDay261'] / ipo_data['closeDay0']\n",
    "\n",
    "# New Column Profitable was calculated by checking if Profit Ratio > 1\n",
    "ipo_data['Profitable'] = ipo_data['Profit_Ratio'] > 1"
   ]
  },
  {
   "cell_type": "code",
   "execution_count": 676,
   "id": "21d7f2e5",
   "metadata": {},
   "outputs": [
    {
     "name": "stdout",
     "output_type": "stream",
     "text": [
      "Rows: 1443, Columns: 37\n"
     ]
    }
   ],
   "source": [
    "# Checked for number of rows and columns\n",
    "print(f'Rows: {ipo_data.shape[0]}, Columns: {ipo_data.shape[1]}')"
   ]
  },
  {
   "cell_type": "markdown",
   "id": "2dcd5f4c",
   "metadata": {},
   "source": [
    "## Data type configuration \n",
    "---"
   ]
  },
  {
   "cell_type": "code",
   "execution_count": 677,
   "id": "5cfee01c",
   "metadata": {},
   "outputs": [
    {
     "name": "stdout",
     "output_type": "stream",
     "text": [
      "<class 'pandas.core.frame.DataFrame'>\n",
      "Index: 1443 entries, 0 to 3755\n",
      "Data columns (total 37 columns):\n",
      " #   Column                      Non-Null Count  Dtype  \n",
      "---  ------                      --------------  -----  \n",
      " 0   Symbol                      1443 non-null   object \n",
      " 1   DaysBetterThanSP            1443 non-null   int64  \n",
      " 2   daysProfit                  1443 non-null   int64  \n",
      " 3   daysProfitGrouped           1443 non-null   object \n",
      " 4   Year                        1443 non-null   int64  \n",
      " 5   Month                       1443 non-null   int64  \n",
      " 6   Day                         1443 non-null   int64  \n",
      " 7   dayOfWeek                   1443 non-null   int64  \n",
      " 8   closeDay0                   1443 non-null   float64\n",
      " 9   volumeDay0                  1443 non-null   float64\n",
      " 10  closeDay6                   1443 non-null   float64\n",
      " 11  volumeDay6                  1443 non-null   float64\n",
      " 12  closeDay29                  1443 non-null   float64\n",
      " 13  volumeDay29                 1443 non-null   float64\n",
      " 14  closeDay59                  1443 non-null   float64\n",
      " 15  volumeDay59                 1443 non-null   float64\n",
      " 16  closeDay89                  1443 non-null   float64\n",
      " 17  volumeDay89                 1443 non-null   float64\n",
      " 18  closeDay179                 1443 non-null   float64\n",
      " 19  volumeDay179                1443 non-null   float64\n",
      " 20  closeDay261                 1443 non-null   float64\n",
      " 21  volumeDay261                1443 non-null   float64\n",
      " 22  Name                        1443 non-null   object \n",
      " 23  MarketCap                   1443 non-null   float64\n",
      " 24  Sector                      1443 non-null   object \n",
      " 25  ipoDate                     1443 non-null   object \n",
      " 26  CEOInChargeDuringIPO        1443 non-null   object \n",
      " 27  presidentInChargeDuringIPO  1443 non-null   object \n",
      " 28  stateCountry                1443 non-null   object \n",
      " 29  Revenue                     1443 non-null   float64\n",
      " 30  netIncome                   1443 non-null   float64\n",
      " 31  employees                   1443 non-null   object \n",
      " 32  MarketMonthTrend            1443 non-null   float64\n",
      " 33  Market3MonthTrend           1443 non-null   float64\n",
      " 34  Market6MonthTrend           1443 non-null   float64\n",
      " 35  Profit_Ratio                1443 non-null   float64\n",
      " 36  Profitable                  1443 non-null   bool   \n",
      "dtypes: bool(1), float64(21), int64(6), object(9)\n",
      "memory usage: 418.5+ KB\n"
     ]
    }
   ],
   "source": [
    "# Checked for data type\n",
    "ipo_data.info()"
   ]
  },
  {
   "cell_type": "code",
   "execution_count": 678,
   "id": "5576f2a9",
   "metadata": {},
   "outputs": [
    {
     "data": {
      "text/plain": [
       "employees\n",
       "-        81\n",
       "103       6\n",
       "7000      6\n",
       "1800      6\n",
       "56        6\n",
       "         ..\n",
       "863       1\n",
       "50000     1\n",
       "387       1\n",
       "1426      1\n",
       "2060      1\n",
       "Name: count, Length: 968, dtype: int64"
      ]
     },
     "execution_count": 678,
     "metadata": {},
     "output_type": "execute_result"
    }
   ],
   "source": [
    "# Checked for value counts in 'employees' column\n",
    "ipo_data['employees'].value_counts()"
   ]
  },
  {
   "cell_type": "code",
   "execution_count": 679,
   "id": "1b05679d",
   "metadata": {},
   "outputs": [],
   "source": [
    "# Changed all '-' with 0 in 'Employees' column\n",
    "temp_employee = ipo_data['employees'].str.contains('-')\n",
    "ipo_data.loc[temp_employee, 'employees'] = 0\n",
    "\n",
    "# Changed their data type to integer\n",
    "ipo_data['employees'] = ipo_data['employees'].astype(int)\n",
    "\n",
    "# Made a new table: the average of employees grouped by sector\n",
    "mean_employee_sector = ipo_data.groupby('Sector')['employees'].median()"
   ]
  },
  {
   "cell_type": "code",
   "execution_count": 680,
   "id": "e89c8ee8",
   "metadata": {},
   "outputs": [],
   "source": [
    "# Merged ipo_data and mean_employee_sector table\n",
    "ipo_data = pd.merge(ipo_data, mean_employee_sector, how='inner', on='Sector')"
   ]
  },
  {
   "cell_type": "code",
   "execution_count": 681,
   "id": "b8fc2c39",
   "metadata": {},
   "outputs": [
    {
     "data": {
      "text/html": [
       "<div>\n",
       "<style scoped>\n",
       "    .dataframe tbody tr th:only-of-type {\n",
       "        vertical-align: middle;\n",
       "    }\n",
       "\n",
       "    .dataframe tbody tr th {\n",
       "        vertical-align: top;\n",
       "    }\n",
       "\n",
       "    .dataframe thead th {\n",
       "        text-align: right;\n",
       "    }\n",
       "</style>\n",
       "<table border=\"1\" class=\"dataframe\">\n",
       "  <thead>\n",
       "    <tr style=\"text-align: right;\">\n",
       "      <th></th>\n",
       "      <th>Symbol</th>\n",
       "      <th>DaysBetterThanSP</th>\n",
       "      <th>daysProfit</th>\n",
       "      <th>daysProfitGrouped</th>\n",
       "      <th>Year</th>\n",
       "      <th>Month</th>\n",
       "      <th>Day</th>\n",
       "      <th>dayOfWeek</th>\n",
       "      <th>closeDay0</th>\n",
       "      <th>volumeDay0</th>\n",
       "      <th>...</th>\n",
       "      <th>stateCountry</th>\n",
       "      <th>Revenue</th>\n",
       "      <th>netIncome</th>\n",
       "      <th>employees_x</th>\n",
       "      <th>MarketMonthTrend</th>\n",
       "      <th>Market3MonthTrend</th>\n",
       "      <th>Market6MonthTrend</th>\n",
       "      <th>Profit_Ratio</th>\n",
       "      <th>Profitable</th>\n",
       "      <th>employees_y</th>\n",
       "    </tr>\n",
       "  </thead>\n",
       "  <tbody>\n",
       "    <tr>\n",
       "      <th>0</th>\n",
       "      <td>A</td>\n",
       "      <td>122</td>\n",
       "      <td>249</td>\n",
       "      <td>200+</td>\n",
       "      <td>1999</td>\n",
       "      <td>11</td>\n",
       "      <td>18</td>\n",
       "      <td>3</td>\n",
       "      <td>28.6358</td>\n",
       "      <td>59753154.0</td>\n",
       "      <td>...</td>\n",
       "      <td>CA</td>\n",
       "      <td>4.470000e+09</td>\n",
       "      <td>684000000.0</td>\n",
       "      <td>13500</td>\n",
       "      <td>1.601165</td>\n",
       "      <td>2.352508</td>\n",
       "      <td>2.312974</td>\n",
       "      <td>1.114706</td>\n",
       "      <td>True</td>\n",
       "      <td>2280.5</td>\n",
       "    </tr>\n",
       "    <tr>\n",
       "      <th>1</th>\n",
       "      <td>AAC</td>\n",
       "      <td>131</td>\n",
       "      <td>262</td>\n",
       "      <td>200+</td>\n",
       "      <td>2014</td>\n",
       "      <td>10</td>\n",
       "      <td>2</td>\n",
       "      <td>3</td>\n",
       "      <td>18.5000</td>\n",
       "      <td>2799073.0</td>\n",
       "      <td>...</td>\n",
       "      <td>TN</td>\n",
       "      <td>3.176400e+08</td>\n",
       "      <td>-20580000.0</td>\n",
       "      <td>2100</td>\n",
       "      <td>-2.452645</td>\n",
       "      <td>-1.194498</td>\n",
       "      <td>0.138536</td>\n",
       "      <td>1.320541</td>\n",
       "      <td>True</td>\n",
       "      <td>166.5</td>\n",
       "    </tr>\n",
       "    <tr>\n",
       "      <th>2</th>\n",
       "      <td>AAOI</td>\n",
       "      <td>125</td>\n",
       "      <td>262</td>\n",
       "      <td>200+</td>\n",
       "      <td>2013</td>\n",
       "      <td>9</td>\n",
       "      <td>26</td>\n",
       "      <td>3</td>\n",
       "      <td>9.9600</td>\n",
       "      <td>948999.0</td>\n",
       "      <td>...</td>\n",
       "      <td>TX</td>\n",
       "      <td>3.823300e+08</td>\n",
       "      <td>73950000.0</td>\n",
       "      <td>3054</td>\n",
       "      <td>0.761732</td>\n",
       "      <td>0.926398</td>\n",
       "      <td>1.286165</td>\n",
       "      <td>1.687751</td>\n",
       "      <td>True</td>\n",
       "      <td>1500.0</td>\n",
       "    </tr>\n",
       "    <tr>\n",
       "      <th>3</th>\n",
       "      <td>AAP</td>\n",
       "      <td>128</td>\n",
       "      <td>261</td>\n",
       "      <td>200+</td>\n",
       "      <td>2001</td>\n",
       "      <td>11</td>\n",
       "      <td>29</td>\n",
       "      <td>3</td>\n",
       "      <td>13.9000</td>\n",
       "      <td>371100.0</td>\n",
       "      <td>...</td>\n",
       "      <td>VA</td>\n",
       "      <td>9.370000e+09</td>\n",
       "      <td>475510000.0</td>\n",
       "      <td>71000</td>\n",
       "      <td>0.613550</td>\n",
       "      <td>1.153716</td>\n",
       "      <td>-0.128110</td>\n",
       "      <td>1.236187</td>\n",
       "      <td>True</td>\n",
       "      <td>1583.5</td>\n",
       "    </tr>\n",
       "    <tr>\n",
       "      <th>4</th>\n",
       "      <td>AAT</td>\n",
       "      <td>123</td>\n",
       "      <td>127</td>\n",
       "      <td>100 - 149</td>\n",
       "      <td>2011</td>\n",
       "      <td>1</td>\n",
       "      <td>13</td>\n",
       "      <td>3</td>\n",
       "      <td>21.2500</td>\n",
       "      <td>15536889.0</td>\n",
       "      <td>...</td>\n",
       "      <td>CA</td>\n",
       "      <td>3.116800e+08</td>\n",
       "      <td>29080000.0</td>\n",
       "      <td>194</td>\n",
       "      <td>1.692499</td>\n",
       "      <td>1.824305</td>\n",
       "      <td>1.813736</td>\n",
       "      <td>0.973647</td>\n",
       "      <td>False</td>\n",
       "      <td>1583.5</td>\n",
       "    </tr>\n",
       "  </tbody>\n",
       "</table>\n",
       "<p>5 rows × 38 columns</p>\n",
       "</div>"
      ],
      "text/plain": [
       "  Symbol  DaysBetterThanSP  daysProfit daysProfitGrouped  Year  Month  Day  \\\n",
       "0      A               122         249              200+  1999     11   18   \n",
       "1    AAC               131         262              200+  2014     10    2   \n",
       "2   AAOI               125         262              200+  2013      9   26   \n",
       "3    AAP               128         261              200+  2001     11   29   \n",
       "4    AAT               123         127         100 - 149  2011      1   13   \n",
       "\n",
       "   dayOfWeek  closeDay0  volumeDay0  ...  stateCountry       Revenue  \\\n",
       "0          3    28.6358  59753154.0  ...            CA  4.470000e+09   \n",
       "1          3    18.5000   2799073.0  ...            TN  3.176400e+08   \n",
       "2          3     9.9600    948999.0  ...            TX  3.823300e+08   \n",
       "3          3    13.9000    371100.0  ...            VA  9.370000e+09   \n",
       "4          3    21.2500  15536889.0  ...            CA  3.116800e+08   \n",
       "\n",
       "     netIncome  employees_x  MarketMonthTrend  Market3MonthTrend  \\\n",
       "0  684000000.0        13500          1.601165           2.352508   \n",
       "1  -20580000.0         2100         -2.452645          -1.194498   \n",
       "2   73950000.0         3054          0.761732           0.926398   \n",
       "3  475510000.0        71000          0.613550           1.153716   \n",
       "4   29080000.0          194          1.692499           1.824305   \n",
       "\n",
       "   Market6MonthTrend  Profit_Ratio  Profitable  employees_y  \n",
       "0           2.312974      1.114706        True       2280.5  \n",
       "1           0.138536      1.320541        True        166.5  \n",
       "2           1.286165      1.687751        True       1500.0  \n",
       "3          -0.128110      1.236187        True       1583.5  \n",
       "4           1.813736      0.973647       False       1583.5  \n",
       "\n",
       "[5 rows x 38 columns]"
      ]
     },
     "execution_count": 681,
     "metadata": {},
     "output_type": "execute_result"
    }
   ],
   "source": [
    "ipo_data.head()"
   ]
  },
  {
   "cell_type": "code",
   "execution_count": 682,
   "id": "1eb38396",
   "metadata": {},
   "outputs": [
    {
     "name": "stderr",
     "output_type": "stream",
     "text": [
      "/var/folders/bv/9kp7wlwx1n94x819spyh3pzc0000gn/T/ipykernel_12113/1108303369.py:3: FutureWarning: Setting an item of incompatible dtype is deprecated and will raise an error in a future version of pandas. Value '[1624.  1281.5 1281.5 1583.5 1500.  1583.5 1583.5  515.  1583.5 1500.\n",
      " 1624.  1500.  3900.   515.   650.  1624.   650.  1500.  1500.  2280.5\n",
      "  166.5 1500.   515.  1500.  1583.5  650.  1624.  1281.5 1281.5  820.\n",
      " 1624.   820.   166.5 1583.5 1583.5 1583.5 1583.5 1583.5 1624.  1624.\n",
      " 1624.   650.   166.5 2280.5 2057.  1500.  2280.5 1500.   515.   166.5\n",
      " 1583.5  650.   820.   820.   650.  1583.5 1583.5 1624.  1583.5 1624.\n",
      "  515.  1500.  1281.5 1583.5 1583.5  650.  1500.  1500.  1500.  1624.\n",
      " 1583.5 1281.5 1281.5  515.  1281.5  650.   650.  1500.  1281.5 1624.\n",
      "  820. ]' has dtype incompatible with int64, please explicitly cast to a compatible dtype first.\n",
      "  ipo_data.loc[temp_employee, 'employees_x'] = ipo_data.loc[temp_employee, 'employees_y']\n"
     ]
    }
   ],
   "source": [
    "# Replaced all employees_x with a value of 0 to the values from employees_y\n",
    "temp_employee  = ipo_data['employees_x'] == 0\n",
    "ipo_data.loc[temp_employee, 'employees_x'] = ipo_data.loc[temp_employee, 'employees_y']"
   ]
  },
  {
   "cell_type": "code",
   "execution_count": 683,
   "id": "2c5b7331",
   "metadata": {},
   "outputs": [],
   "source": [
    "# Dropped column 'employee_y'\n",
    "ipo_data = ipo_data.drop(columns = ['employees_y'])\n",
    "\n",
    "# Changed type to int\n",
    "ipo_data['employees_x'] = ipo_data['employees_x'].astype(int)"
   ]
  },
  {
   "cell_type": "code",
   "execution_count": 684,
   "id": "7b4e5300",
   "metadata": {},
   "outputs": [],
   "source": [
    "# Changed ipoDate to a DateTime format\n",
    "ipo_data['ipoDate'] = pd.to_datetime(ipo_data['ipoDate'], format='mixed')"
   ]
  },
  {
   "cell_type": "code",
   "execution_count": 685,
   "id": "4f77ee1e",
   "metadata": {},
   "outputs": [],
   "source": [
    "# Using a for loop, converted rows with 'Yes' or 'No' or 'sameYear' with 1 and 0 using mapping\n",
    "converted_columns = ['CEOInChargeDuringIPO', 'presidentInChargeDuringIPO']\n",
    "\n",
    "for b in converted_columns:\n",
    "    ipo_data[b] = ipo_data[b].map({'Yes': 1, 'No': 0, 'sameYear': 0})"
   ]
  },
  {
   "cell_type": "code",
   "execution_count": 686,
   "id": "0b4d4da0",
   "metadata": {},
   "outputs": [],
   "source": [
    "# Replaced all string length of 2 in 'stateCountry' column to 'USA'\n",
    "tempcountry = ipo_data['stateCountry'].str.strip().str.len() == 2\n",
    "ipo_data.loc[tempcountry, 'stateCountry'] = 'USA'"
   ]
  },
  {
   "cell_type": "code",
   "execution_count": 687,
   "id": "b4c33888",
   "metadata": {},
   "outputs": [
    {
     "name": "stdout",
     "output_type": "stream",
     "text": [
      "<class 'pandas.core.frame.DataFrame'>\n",
      "RangeIndex: 1443 entries, 0 to 1442\n",
      "Data columns (total 37 columns):\n",
      " #   Column                      Non-Null Count  Dtype         \n",
      "---  ------                      --------------  -----         \n",
      " 0   Symbol                      1443 non-null   object        \n",
      " 1   DaysBetterThanSP            1443 non-null   int64         \n",
      " 2   daysProfit                  1443 non-null   int64         \n",
      " 3   daysProfitGrouped           1443 non-null   object        \n",
      " 4   Year                        1443 non-null   int64         \n",
      " 5   Month                       1443 non-null   int64         \n",
      " 6   Day                         1443 non-null   int64         \n",
      " 7   dayOfWeek                   1443 non-null   int64         \n",
      " 8   closeDay0                   1443 non-null   float64       \n",
      " 9   volumeDay0                  1443 non-null   float64       \n",
      " 10  closeDay6                   1443 non-null   float64       \n",
      " 11  volumeDay6                  1443 non-null   float64       \n",
      " 12  closeDay29                  1443 non-null   float64       \n",
      " 13  volumeDay29                 1443 non-null   float64       \n",
      " 14  closeDay59                  1443 non-null   float64       \n",
      " 15  volumeDay59                 1443 non-null   float64       \n",
      " 16  closeDay89                  1443 non-null   float64       \n",
      " 17  volumeDay89                 1443 non-null   float64       \n",
      " 18  closeDay179                 1443 non-null   float64       \n",
      " 19  volumeDay179                1443 non-null   float64       \n",
      " 20  closeDay261                 1443 non-null   float64       \n",
      " 21  volumeDay261                1443 non-null   float64       \n",
      " 22  Name                        1443 non-null   object        \n",
      " 23  MarketCap                   1443 non-null   float64       \n",
      " 24  Sector                      1443 non-null   object        \n",
      " 25  ipoDate                     1443 non-null   datetime64[ns]\n",
      " 26  CEOInChargeDuringIPO        1443 non-null   int64         \n",
      " 27  presidentInChargeDuringIPO  1443 non-null   int64         \n",
      " 28  stateCountry                1443 non-null   object        \n",
      " 29  Revenue                     1443 non-null   float64       \n",
      " 30  netIncome                   1443 non-null   float64       \n",
      " 31  employees_x                 1443 non-null   int64         \n",
      " 32  MarketMonthTrend            1443 non-null   float64       \n",
      " 33  Market3MonthTrend           1443 non-null   float64       \n",
      " 34  Market6MonthTrend           1443 non-null   float64       \n",
      " 35  Profit_Ratio                1443 non-null   float64       \n",
      " 36  Profitable                  1443 non-null   bool          \n",
      "dtypes: bool(1), datetime64[ns](1), float64(21), int64(9), object(5)\n",
      "memory usage: 407.4+ KB\n"
     ]
    }
   ],
   "source": [
    "# Checked all types are in its right form\n",
    "ipo_data.info()"
   ]
  },
  {
   "cell_type": "code",
   "execution_count": 688,
   "id": "e3bdc8e0",
   "metadata": {},
   "outputs": [],
   "source": [
    "# Filter for companies with a 250 million dollar valuation\n",
    "ipo_data = ipo_data[(ipo_data['MarketCap'] > 250_000_000)]"
   ]
  },
  {
   "cell_type": "code",
   "execution_count": 689,
   "id": "ff14a701",
   "metadata": {},
   "outputs": [],
   "source": [
    "# Made Revenue into per million($)\n",
    "ipo_data['Revenue'] = ipo_data['Revenue'] / 1_000_000"
   ]
  },
  {
   "cell_type": "markdown",
   "id": "607d2b50",
   "metadata": {},
   "source": [
    "## Removing Outliers\n",
    "---"
   ]
  },
  {
   "cell_type": "code",
   "execution_count": 690,
   "id": "d164b201",
   "metadata": {},
   "outputs": [],
   "source": [
    "# Calculated the lower and upper quantile threshold and remove outliers\n",
    "qr = []\n",
    "\n",
    "col_list = ipo_data.columns[[1, 2, 4, 8, 9, 10, 11, 12, 13, 14, 15, 16, 17, 18, 19, 20, 21, 23, 29, 30, 31, 32, 33, 34]]\n",
    "\n",
    "for x in col_list:\n",
    "    col_num = ipo_data[x]\n",
    "    iqr_calculation = iqr(col_num)\n",
    "    lower_threshold = np.quantile(col_num, 0.25) - 1.5 * iqr_calculation\n",
    "    upper_threshold = np.quantile(col_num, 0.75) + 1.5 * iqr_calculation\n",
    "    qr.append((x, lower_threshold, upper_threshold))\n",
    "\n",
    "for column, lower, upper in qr:\n",
    "    ipo_data =ipo_data[(ipo_data[column] >= lower) & (ipo_data[column] <= upper)]"
   ]
  },
  {
   "cell_type": "code",
   "execution_count": 691,
   "id": "63d06cc7",
   "metadata": {},
   "outputs": [
    {
     "name": "stdout",
     "output_type": "stream",
     "text": [
      "Rows: 485, Columns: 37\n"
     ]
    }
   ],
   "source": [
    "# Checked how many rows and columns\n",
    "print(f'Rows: {ipo_data.shape[0]}, Columns: {ipo_data.shape[1]}')"
   ]
  },
  {
   "cell_type": "code",
   "execution_count": 692,
   "id": "3721403e",
   "metadata": {},
   "outputs": [
    {
     "data": {
      "text/plain": [
       "array([[<Axes: title={'center': 'DaysBetterThanSP'}>,\n",
       "        <Axes: title={'center': 'daysProfit'}>,\n",
       "        <Axes: title={'center': 'Year'}>,\n",
       "        <Axes: title={'center': 'Month'}>,\n",
       "        <Axes: title={'center': 'Day'}>,\n",
       "        <Axes: title={'center': 'dayOfWeek'}>],\n",
       "       [<Axes: title={'center': 'closeDay0'}>,\n",
       "        <Axes: title={'center': 'volumeDay0'}>,\n",
       "        <Axes: title={'center': 'closeDay6'}>,\n",
       "        <Axes: title={'center': 'volumeDay6'}>,\n",
       "        <Axes: title={'center': 'closeDay29'}>,\n",
       "        <Axes: title={'center': 'volumeDay29'}>],\n",
       "       [<Axes: title={'center': 'closeDay59'}>,\n",
       "        <Axes: title={'center': 'volumeDay59'}>,\n",
       "        <Axes: title={'center': 'closeDay89'}>,\n",
       "        <Axes: title={'center': 'volumeDay89'}>,\n",
       "        <Axes: title={'center': 'closeDay179'}>,\n",
       "        <Axes: title={'center': 'volumeDay179'}>],\n",
       "       [<Axes: title={'center': 'closeDay261'}>,\n",
       "        <Axes: title={'center': 'volumeDay261'}>,\n",
       "        <Axes: title={'center': 'MarketCap'}>,\n",
       "        <Axes: title={'center': 'ipoDate'}>,\n",
       "        <Axes: title={'center': 'CEOInChargeDuringIPO'}>,\n",
       "        <Axes: title={'center': 'presidentInChargeDuringIPO'}>],\n",
       "       [<Axes: title={'center': 'Revenue'}>,\n",
       "        <Axes: title={'center': 'netIncome'}>,\n",
       "        <Axes: title={'center': 'employees_x'}>,\n",
       "        <Axes: title={'center': 'MarketMonthTrend'}>,\n",
       "        <Axes: title={'center': 'Market3MonthTrend'}>,\n",
       "        <Axes: title={'center': 'Market6MonthTrend'}>],\n",
       "       [<Axes: title={'center': 'Profit_Ratio'}>, <Axes: >, <Axes: >,\n",
       "        <Axes: >, <Axes: >, <Axes: >]], dtype=object)"
      ]
     },
     "execution_count": 692,
     "metadata": {},
     "output_type": "execute_result"
    },
    {
     "data": {
      "image/png": "[encoded data removed]",
      "text/plain": [
       "<Figure size 2000x2000 with 36 Axes>"
      ]
     },
     "metadata": {},
     "output_type": "display_data"
    }
   ],
   "source": [
    "# Histogram plotted\n",
    "ipo_data.hist(figsize= (20,20))"
   ]
  },
  {
   "cell_type": "markdown",
   "id": "628d27e8",
   "metadata": {},
   "source": [
    "## Saved to CSV\n",
    "---"
   ]
  },
  {
   "cell_type": "code",
   "execution_count": 693,
   "id": "f10238a3",
   "metadata": {},
   "outputs": [],
   "source": [
    "# Saved to CSV\n",
    "ipo_data.to_csv('ipo_data_cleaned.csv', index=False)"
   ]
  },
  {
   "cell_type": "markdown",
   "id": "c27350e5",
   "metadata": {},
   "source": [
    "## Checked for correlation and value counts\n",
    "---"
   ]
  },
  {
   "cell_type": "code",
   "execution_count": 694,
   "id": "d252507b",
   "metadata": {},
   "outputs": [
    {
     "name": "stdout",
     "output_type": "stream",
     "text": [
      "Sector\n",
      "Health Care              91\n",
      "Consumer Services        85\n",
      "Finance                  84\n",
      "Technology               64\n",
      "Basic Industries         30\n",
      "Energy                   29\n",
      "Capital Goods            27\n",
      "Public Utilities         20\n",
      "Consumer Non-Durables    16\n",
      "Miscellaneous            16\n",
      "Consumer Durables        14\n",
      "Transportation            9\n",
      "Name: count, dtype: int64 stateCountry\n",
      "USA                    436\n",
      " Canada                 13\n",
      " Bermuda                10\n",
      " Israel                  9\n",
      " China                   4\n",
      " the United Kingdom      3\n",
      " Switzerland             2\n",
      " Denmark                 1\n",
      " France                  1\n",
      " The Netherlands         1\n",
      " Peru                    1\n",
      " Ireland                 1\n",
      " Monaco                  1\n",
      " US Virgin Islands       1\n",
      " Greece                  1\n",
      "Name: count, dtype: int64\n"
     ]
    }
   ],
   "source": [
    "# Calculated the value of count for each of the categorical columns\n",
    "sector_count = ipo_data['Sector'].value_counts()\n",
    "statecountry_count = ipo_data['stateCountry'].value_counts()\n",
    "pic_count = ipo_data['presidentInChargeDuringIPO'].value_counts()\n",
    "cic_count = ipo_data['CEOInChargeDuringIPO'].value_counts()\n",
    "dpg_count = ipo_data['daysProfitGrouped'].value_counts()\n",
    "month_count = ipo_data['Month'].value_counts()\n",
    "day_count = ipo_data['Day'].value_counts()\n",
    "dow_count = ipo_data['dayOfWeek'].value_counts()\n",
    "print(sector_count, statecountry_count)"
   ]
  },
  {
   "cell_type": "code",
   "execution_count": 695,
   "id": "c97816f5",
   "metadata": {},
   "outputs": [
    {
     "name": "stdout",
     "output_type": "stream",
     "text": [
      "presidentInChargeDuringIPO\n",
      "0    394\n",
      "1     91\n",
      "Name: count, dtype: int64 CEOInChargeDuringIPO\n",
      "0    369\n",
      "1    116\n",
      "Name: count, dtype: int64 daysProfitGrouped\n",
      "200+         241\n",
      "0 - 49        76\n",
      "50 - 99       63\n",
      "150 - 200     60\n",
      "100 - 149     45\n",
      "Name: count, dtype: int64\n"
     ]
    }
   ],
   "source": [
    "print(pic_count, cic_count, dpg_count)"
   ]
  },
  {
   "cell_type": "code",
   "execution_count": 696,
   "id": "8abae3c3",
   "metadata": {},
   "outputs": [
    {
     "name": "stdout",
     "output_type": "stream",
     "text": [
      "Month\n",
      "5     57\n",
      "3     52\n",
      "7     50\n",
      "11    48\n",
      "10    44\n",
      "4     41\n",
      "2     40\n",
      "9     34\n",
      "6     32\n",
      "1     30\n",
      "12    29\n",
      "8     28\n",
      "Name: count, dtype: int64 Day\n",
      "12    24\n",
      "11    23\n",
      "29    21\n",
      "15    20\n",
      "16    20\n",
      "28    20\n",
      "25    20\n",
      "24    20\n",
      "2     20\n",
      "13    19\n",
      "8     19\n",
      "3     18\n",
      "9     17\n",
      "6     16\n",
      "22    16\n",
      "17    15\n",
      "27    15\n",
      "20    15\n",
      "14    14\n",
      "18    14\n",
      "10    14\n",
      "23    13\n",
      "19    12\n",
      "5     12\n",
      "26    11\n",
      "30    11\n",
      "21    11\n",
      "7     10\n",
      "31    10\n",
      "1     10\n",
      "4      5\n",
      "Name: count, dtype: int64 dayOfWeek\n",
      "3    218\n",
      "2    155\n",
      "1     85\n",
      "0     27\n",
      "Name: count, dtype: int64\n"
     ]
    }
   ],
   "source": [
    "print(month_count, day_count, dow_count)"
   ]
  },
  {
   "cell_type": "code",
   "execution_count": 697,
   "id": "e318c717",
   "metadata": {},
   "outputs": [],
   "source": [
    "# Created 1 hot encoding for 'Sector' & 'Month'\n",
    "ipo_data = pd.get_dummies(ipo_data, columns=['Sector'], drop_first= True)\n",
    "ipo_data = pd.get_dummies(ipo_data, columns=['Month'], drop_first= True)"
   ]
  },
  {
   "cell_type": "code",
   "execution_count": 698,
   "id": "95f6e40a",
   "metadata": {},
   "outputs": [
    {
     "name": "stdout",
     "output_type": "stream",
     "text": [
      "Profitable                      1.000000\n",
      "daysProfit                      0.704692\n",
      "Profit_Ratio                    0.546951\n",
      "closeDay261                     0.481725\n",
      "DaysBetterThanSP                0.349080\n",
      "closeDay179                     0.299088\n",
      "netIncome                       0.139873\n",
      "Year                            0.103277\n",
      "MarketCap                       0.102705\n",
      "employees_x                     0.100750\n",
      "Sector_Finance                  0.086380\n",
      "closeDay89                      0.084266\n",
      "volumeDay261                    0.071518\n",
      "Month_5                         0.064211\n",
      "Month_8                         0.058736\n",
      "CEOInChargeDuringIPO            0.055590\n",
      "Sector_Energy                   0.047173\n",
      "Month_9                         0.043977\n",
      "closeDay59                      0.043785\n",
      "Sector_Public Utilities         0.043170\n",
      "Sector_Consumer Durables        0.040911\n",
      "Revenue                         0.035045\n",
      "Sector_Miscellaneous            0.033738\n",
      "Month_6                         0.031609\n",
      "volumeDay179                    0.007377\n",
      "Month_4                         0.007324\n",
      "presidentInChargeDuringIPO      0.006329\n",
      "Month_11                        0.004210\n",
      "Sector_Consumer Services        0.001938\n",
      "Month_10                       -0.004528\n",
      "Sector_Technology              -0.015755\n",
      "closeDay29                     -0.018775\n",
      "Month_12                       -0.023769\n",
      "Day                            -0.025599\n",
      "Month_7                        -0.026233\n",
      "Sector_Capital Goods           -0.039328\n",
      "Sector_Transportation          -0.043046\n",
      "Month_2                        -0.044600\n",
      "volumeDay29                    -0.044922\n",
      "Sector_Health Care             -0.047526\n",
      "dayOfWeek                      -0.056796\n",
      "Month_3                        -0.069221\n",
      "volumeDay89                    -0.083508\n",
      "Sector_Consumer Non-Durables   -0.083981\n",
      "volumeDay6                     -0.087185\n",
      "volumeDay59                    -0.089834\n",
      "closeDay6                      -0.103770\n",
      "Market3MonthTrend              -0.106430\n",
      "volumeDay0                     -0.113906\n",
      "Market6MonthTrend              -0.114429\n",
      "MarketMonthTrend               -0.120170\n",
      "closeDay0                      -0.129045\n",
      "Name: Profitable, dtype: float64\n"
     ]
    }
   ],
   "source": [
    "# Calculated correlation in respect to Profitable column\n",
    "Correlations = ipo_data.corr(numeric_only=True)['Profitable'].sort_values(ascending=False)\n",
    "print(Correlations)"
   ]
  },
  {
   "cell_type": "markdown",
   "id": "24e237d8",
   "metadata": {},
   "source": [
    "## All features chosen\n",
    "---"
   ]
  },
  {
   "cell_type": "markdown",
   "id": "7bc802b9",
   "metadata": {},
   "source": [
    "* daysProfit\n",
    "* DaysBetterThanSP\n",
    "* closeDay179\n",
    "* netIncome\n",
    "* Year\n",
    "* MarketCap\n",
    "* employees_x\n",
    "* closeDay6\n",
    "* Market3MonthTrend\n",
    "* volumeDay0\n",
    "* Market6MonthTrend\n",
    "* MarketMonthTrend\n",
    "* closeDay0"
   ]
  },
  {
   "cell_type": "code",
   "execution_count": 699,
   "id": "0d144873",
   "metadata": {},
   "outputs": [],
   "source": [
    "feature_cols = ['daysProfit', 'DaysBetterThanSP', 'closeDay179', 'netIncome', 'Year', 'MarketCap', 'employees_x', 'closeDay6', 'Market3MonthTrend', 'volumeDay0', 'Market6MonthTrend', \n",
    "                'MarketMonthTrend', 'closeDay0']"
   ]
  },
  {
   "cell_type": "markdown",
   "id": "62c626c9",
   "metadata": {},
   "source": [
    "## Loaded data into a test split and scaler transformation\n",
    "---"
   ]
  },
  {
   "cell_type": "code",
   "execution_count": 700,
   "id": "08658962",
   "metadata": {},
   "outputs": [],
   "source": [
    "X = ipo_data[feature_cols]\n",
    "y = ipo_data.Profitable\n",
    "\n",
    "X_train, X_test, y_train, y_test = train_test_split(X, y, random_state=123)\n",
    "Scaler = StandardScaler()\n",
    "X_train = Scaler.fit_transform(X_train)\n",
    "X_test = Scaler.transform(X_test)"
   ]
  },
  {
   "cell_type": "markdown",
   "id": "1648956e",
   "metadata": {},
   "source": [
    "## 1. KNN Classification Modelling\n",
    "---"
   ]
  },
  {
   "cell_type": "markdown",
   "id": "fb1f039d",
   "metadata": {},
   "source": [
    "### K value"
   ]
  },
  {
   "cell_type": "code",
   "execution_count": 701,
   "id": "4108fc6e",
   "metadata": {},
   "outputs": [],
   "source": [
    "# Finding K value\n",
    "k_range = list(range(1, 101))\n",
    "training_error = []\n",
    "testing_error = []\n",
    "\n",
    "for k in k_range:\n",
    "    # Loaded the model with the current K value\n",
    "    knn = KNeighborsClassifier(n_neighbors=k)\n",
    "    knn.fit(X_train, y_train)\n",
    "\n",
    "    # Calculated training error\n",
    "    y_pred_class = knn.predict(X_train)\n",
    "    training_accuracy = accuracy_score(y_train, y_pred_class)\n",
    "    training_error.append(1 - training_accuracy)\n",
    "\n",
    "    # Calculated testing error\n",
    "    y_pred_class = knn.predict(X_test)\n",
    "    testing_accuracy =  accuracy_score(y_test, y_pred_class)\n",
    "    testing_error.append(1 - testing_accuracy)"
   ]
  },
  {
   "cell_type": "code",
   "execution_count": 702,
   "id": "fd8b16a8",
   "metadata": {},
   "outputs": [
    {
     "data": {
      "text/plain": [
       "(0.15573770491803274, 8)"
      ]
     },
     "execution_count": 702,
     "metadata": {},
     "output_type": "execute_result"
    },
    {
     "data": {
      "image/png": "[encoded data removed]",
      "text/plain": [
       "<Figure size 640x480 with 1 Axes>"
      ]
     },
     "metadata": {},
     "output_type": "display_data"
    }
   ],
   "source": [
    "# Plotted a graph showing testing and training error\n",
    "\n",
    "plt.style.use('fivethirtyeight')\n",
    "column_dict = {'K': k_range, 'training_error': training_error, 'testing_error': testing_error}\n",
    "column_df = pd.DataFrame(column_dict).set_index('K')\n",
    "\n",
    "column_df.plot()\n",
    "plt.xlabel('Value of K')\n",
    "plt.ylabel('Error')\n",
    "\n",
    "min(list(zip(testing_error, k_range)))"
   ]
  },
  {
   "cell_type": "markdown",
   "id": "a54e3965",
   "metadata": {},
   "source": [
    "### Checked against null accuracy"
   ]
  },
  {
   "cell_type": "code",
   "execution_count": 703,
   "id": "a26ac6f6",
   "metadata": {},
   "outputs": [
    {
     "name": "stdout",
     "output_type": "stream",
     "text": [
      "0.8442622950819673\n"
     ]
    }
   ],
   "source": [
    "knn = KNeighborsClassifier(n_neighbors= 8)\n",
    "knn.fit(X_train, y_train)\n",
    "\n",
    "y_pred_class = knn.predict(X_test)\n",
    "print((accuracy_score(y_test,y_pred_class)))"
   ]
  },
  {
   "cell_type": "code",
   "execution_count": 704,
   "id": "44870014",
   "metadata": {},
   "outputs": [
    {
     "name": "stdout",
     "output_type": "stream",
     "text": [
      "daysProfit           0.144904\n",
      "DaysBetterThanSP     0.025069\n",
      "closeDay0            0.011019\n",
      "closeDay6            0.010468\n",
      "MarketCap            0.007438\n",
      "closeDay179          0.003581\n",
      "Year                 0.002204\n",
      "Market6MonthTrend   -0.000275\n",
      "Market3MonthTrend   -0.002204\n",
      "volumeDay0          -0.003306\n",
      "employees_x         -0.005785\n",
      "MarketMonthTrend    -0.006887\n",
      "netIncome           -0.007989\n",
      "dtype: float64\n"
     ]
    }
   ],
   "source": [
    "# Feature Importance\n",
    "feature_names = ['daysProfit', 'DaysBetterThanSP', 'closeDay179', 'netIncome', 'Year', 'MarketCap',\n",
    "                 'employees_x', 'closeDay6', 'Market3MonthTrend', 'volumeDay0', 'Market6MonthTrend',\n",
    "                 'MarketMonthTrend', 'closeDay0']\n",
    "result = permutation_importance(knn, X_train, y_train, n_repeats=10, random_state=123)\n",
    "feature_importance = pd.Series(result.importances_mean, index=feature_names).sort_values(ascending=False)\n",
    "print(feature_importance)"
   ]
  },
  {
   "cell_type": "code",
   "execution_count": 705,
   "id": "0654ebad",
   "metadata": {},
   "outputs": [
    {
     "data": {
      "text/plain": [
       "np.float64(0.5573770491803278)"
      ]
     },
     "execution_count": 705,
     "metadata": {},
     "output_type": "execute_result"
    }
   ],
   "source": [
    "# Calculated null accuracy\n",
    "most_freq_class = y_train.value_counts().index[0]\n",
    "y_test.value_counts()[most_freq_class]/len(y_test)"
   ]
  },
  {
   "cell_type": "markdown",
   "id": "540e9ee9",
   "metadata": {},
   "source": [
    "0.84 > 0.56 accuracy"
   ]
  },
  {
   "cell_type": "markdown",
   "id": "122b43c6",
   "metadata": {},
   "source": [
    "### Confusion Matrix"
   ]
  },
  {
   "cell_type": "code",
   "execution_count": 706,
   "id": "acb74780",
   "metadata": {},
   "outputs": [
    {
     "name": "stdout",
     "output_type": "stream",
     "text": [
      "[[43 11]\n",
      " [ 8 60]]\n"
     ]
    }
   ],
   "source": [
    "cm = confusion_matrix(y_test, y_pred_class)\n",
    "print(cm)"
   ]
  },
  {
   "cell_type": "code",
   "execution_count": 707,
   "id": "234fdaa0",
   "metadata": {},
   "outputs": [
    {
     "data": {
      "image/png": "[encoded data removed]",
      "text/plain": [
       "<Figure size 640x480 with 2 Axes>"
      ]
     },
     "metadata": {},
     "output_type": "display_data"
    }
   ],
   "source": [
    "class_names = ['Profitable', 'Unprofitable']\n",
    "\n",
    "sns.heatmap(cm, annot=True, cmap='YlGnBu',\n",
    "            xticklabels=class_names, yticklabels=class_names,\n",
    "            linewidths=0.5, linecolor='gray')\n",
    "\n",
    "plt.title('confusion_matrix')\n",
    "plt.xlabel('Predicted Labels')\n",
    "plt.ylabel('True labels')\n",
    "plt.show()"
   ]
  },
  {
   "cell_type": "markdown",
   "id": "71684f22",
   "metadata": {},
   "source": [
    "### Modification of KNN Model adjusting features"
   ]
  },
  {
   "cell_type": "code",
   "execution_count": 708,
   "id": "85d1c1c3",
   "metadata": {},
   "outputs": [
    {
     "name": "stdout",
     "output_type": "stream",
     "text": [
      "Best number of features: 9\n",
      "Best KNN parameters: {'algorithm': 'auto', 'leaf_size': 5, 'n_neighbors': 8, 'p': 1, 'weights': 'uniform'}\n",
      "Best CV accuracy: 0.8474226804123711\n"
     ]
    }
   ],
   "source": [
    "# Create pipeline\n",
    "pipeline = Pipeline([\n",
    "    ('scaler', StandardScaler()),\n",
    "    ('select', SelectKBest(score_func=f_classif)),\n",
    "    ('knn', KNeighborsClassifier())\n",
    "])\n",
    "\n",
    "# Grid search over number of features (k) and KNN params\n",
    "param_grid = {\n",
    "    'select__k': [1, 2, 3, 4, 5, 6, 7, 8, 9, 10, 11, 12, 'all'],\n",
    "    'knn__n_neighbors': [8],\n",
    "    'knn__weights': ['uniform', 'distance'],\n",
    "    'knn__algorithm': ['auto', 'ball_tree', 'kd_tree', 'brute'],\n",
    "    'knn__p': [1, 2],\n",
    "    'knn__leaf_size': [5, 10, 15, 20, 25, 30]\n",
    "}\n",
    "\n",
    "grid = GridSearchCV(pipeline, param_grid, cv=5, scoring='accuracy', n_jobs=-1)\n",
    "grid.fit(X, y)\n",
    "\n",
    "# Show results\n",
    "print(\"Best number of features:\", grid.best_params_['select__k'])\n",
    "print(\"Best KNN parameters:\", {k.replace(\"knn__\", \"\"): v for k, v in grid.best_params_.items() if \"knn__\" in k})\n",
    "print(\"Best CV accuracy:\", grid.best_score_)\n"
   ]
  },
  {
   "cell_type": "code",
   "execution_count": 709,
   "id": "3451e916",
   "metadata": {},
   "outputs": [
    {
     "name": "stdout",
     "output_type": "stream",
     "text": [
      "Selected features: ['daysProfit', 'DaysBetterThanSP', 'closeDay179', 'netIncome', 'Market3MonthTrend', 'volumeDay0', 'Market6MonthTrend', 'MarketMonthTrend', 'closeDay0']\n"
     ]
    }
   ],
   "source": [
    "# Found which features gives the best accuracy\n",
    "best_k = grid.best_params_['select__k']\n",
    "selector = SelectKBest(score_func=f_classif, k=best_k)\n",
    "selector.fit(X, y)\n",
    "selected_features = X.columns[selector.get_support()]\n",
    "print(\"Selected features:\", selected_features.tolist())"
   ]
  },
  {
   "cell_type": "markdown",
   "id": "220529cb",
   "metadata": {},
   "source": [
    "### Replaced features"
   ]
  },
  {
   "cell_type": "code",
   "execution_count": 710,
   "id": "6f42e23d",
   "metadata": {},
   "outputs": [],
   "source": [
    "feature_cols2 = ['daysProfit', 'DaysBetterThanSP', 'closeDay179', 'netIncome', 'Market3MonthTrend', 'volumeDay0', 'Market6MonthTrend', 'MarketMonthTrend', 'closeDay0']\n",
    "\n",
    "X = ipo_data[feature_cols2]\n",
    "y = ipo_data.Profitable\n",
    "\n",
    "X_train, X_test, y_train, y_test = train_test_split(X,y, random_state=123)\n",
    "Scaler = StandardScaler()\n",
    "X_train = Scaler.fit_transform(X_train)\n",
    "X_test = Scaler.transform(X_test)"
   ]
  },
  {
   "cell_type": "code",
   "execution_count": 711,
   "id": "133b7813",
   "metadata": {},
   "outputs": [
    {
     "name": "stdout",
     "output_type": "stream",
     "text": [
      "0.7868852459016393\n"
     ]
    }
   ],
   "source": [
    "# Trained model\n",
    "knn = KNeighborsClassifier(n_neighbors= 8, algorithm='auto', leaf_size=5, p=1, weights='uniform')\n",
    "knn.fit(X_train, y_train)\n",
    "\n",
    "y_pred_class = knn.predict(X_test)\n",
    "print((accuracy_score(y_test,y_pred_class)))"
   ]
  },
  {
   "cell_type": "markdown",
   "id": "6120bcce",
   "metadata": {},
   "source": [
    "1st Model was selected as it has a better accuracy score"
   ]
  },
  {
   "cell_type": "markdown",
   "id": "c05149a8",
   "metadata": {},
   "source": [
    "## 2. Decision Tree Classification Modelling\n",
    "---"
   ]
  },
  {
   "cell_type": "code",
   "execution_count": 712,
   "id": "71fda31b",
   "metadata": {},
   "outputs": [],
   "source": [
    "# Features added\n",
    "X = ipo_data[feature_cols]\n",
    "y = ipo_data.Profitable\n",
    "\n",
    "X_train, X_test, y_train, y_test = train_test_split(X,y, random_state=123)\n",
    "Scaler = StandardScaler()\n",
    "X_train = Scaler.fit_transform(X_train)\n",
    "X_test = Scaler.transform(X_test)"
   ]
  },
  {
   "cell_type": "code",
   "execution_count": 713,
   "id": "108fcf53",
   "metadata": {},
   "outputs": [
    {
     "name": "stdout",
     "output_type": "stream",
     "text": [
      "0.8524590163934426\n"
     ]
    }
   ],
   "source": [
    "# Model predicted\n",
    "model = DecisionTreeClassifier(max_depth= 5, random_state= 123)\n",
    "model.fit(X_train, y_train)\n",
    "y_pred = model.predict(X_test)\n",
    "\n",
    "acc = accuracy_score(y_test, y_pred)\n",
    "print(acc)"
   ]
  },
  {
   "cell_type": "markdown",
   "id": "490a32a9",
   "metadata": {},
   "source": [
    "Confusion Matrix"
   ]
  },
  {
   "cell_type": "code",
   "execution_count": 714,
   "id": "a423fd49",
   "metadata": {},
   "outputs": [
    {
     "name": "stdout",
     "output_type": "stream",
     "text": [
      "[[38 16]\n",
      " [10 58]]\n"
     ]
    }
   ],
   "source": [
    "cm = confusion_matrix(y_test, y_pred_class)\n",
    "print(cm)"
   ]
  },
  {
   "cell_type": "code",
   "execution_count": 715,
   "id": "f5eeb86b",
   "metadata": {},
   "outputs": [
    {
     "data": {
      "image/png": "[encoded data removed]",
      "text/plain": [
       "<Figure size 640x480 with 2 Axes>"
      ]
     },
     "metadata": {},
     "output_type": "display_data"
    }
   ],
   "source": [
    "class_names = ['Profitable', 'Loss']\n",
    "\n",
    "sns.heatmap(cm, annot=True, cmap='YlGnBu',\n",
    "            xticklabels=class_names, yticklabels=class_names,\n",
    "            linewidths=0.5, linecolor='gray')\n",
    "\n",
    "plt.title('confusion_matrix')\n",
    "plt.xlabel('Predicted Labels')\n",
    "plt.ylabel('True labels')\n",
    "plt.show()"
   ]
  },
  {
   "cell_type": "code",
   "execution_count": 716,
   "id": "86d22584",
   "metadata": {},
   "outputs": [
    {
     "name": "stdout",
     "output_type": "stream",
     "text": [
      "Best Decision Tree Parameters: {'dt__ccp_alpha': 0.0, 'dt__max_depth': 5, 'dt__max_features': 'sqrt', 'dt__min_samples_leaf': 10, 'dt__min_samples_split': 2, 'select__k': 2}\n",
      "Best CV Accuracy: 0.8392\n"
     ]
    }
   ],
   "source": [
    "# Used GridSearch and SelectKBest to find the most optimal input features\n",
    "pipeline = Pipeline([\n",
    "    ('scaler', StandardScaler()),\n",
    "    ('select', SelectKBest(score_func=f_classif)),\n",
    "    ('dt', DecisionTreeClassifier(random_state=123))\n",
    "])\n",
    "\n",
    "# Grid search\n",
    "param_grid = {\n",
    "    'select__k': [1, 2, 3, 4, 5, 6, 7, 8, 9, 10, 11, 12, 'all'],\n",
    "    'dt__max_depth': [5, 10, 15, None],\n",
    "    'dt__min_samples_split': [2, 10, 20],\n",
    "    'dt__min_samples_leaf': [1, 5, 10],\n",
    "    'dt__max_features': [None, 'sqrt', 'log2'],\n",
    "    'dt__ccp_alpha': [0.0, 0.01, 0.1],\n",
    "}\n",
    "\n",
    "grid = GridSearchCV(pipeline, param_grid, cv=5, scoring='accuracy', n_jobs=-1)\n",
    "grid.fit(X, y)\n",
    "\n",
    "print(\"Best Decision Tree Parameters:\", grid.best_params_)\n",
    "print(\"Best CV Accuracy:\", round(grid.best_score_, 4))"
   ]
  },
  {
   "cell_type": "code",
   "execution_count": 717,
   "id": "6534328d",
   "metadata": {},
   "outputs": [
    {
     "name": "stdout",
     "output_type": "stream",
     "text": [
      "Selected Features for Best Decision Tree:\n",
      "['daysProfit', 'DaysBetterThanSP']\n"
     ]
    }
   ],
   "source": [
    "# Got SelectKBest\n",
    "selector = grid.best_estimator_.named_steps['select']\n",
    "selected_features = X.columns[selector.get_support()]\n",
    "\n",
    "print(\"Selected Features for Best Decision Tree:\")\n",
    "print(selected_features.tolist())"
   ]
  },
  {
   "cell_type": "markdown",
   "id": "84415eb5",
   "metadata": {},
   "source": [
    "### New Features chosen"
   ]
  },
  {
   "cell_type": "code",
   "execution_count": 718,
   "id": "d56726d6",
   "metadata": {},
   "outputs": [],
   "source": [
    "feature_cols2 = ['daysProfit', 'DaysBetterThanSP']\n",
    "\n",
    "X = ipo_data[feature_cols2]\n",
    "y = ipo_data.Profitable\n",
    "\n",
    "X_train, X_test, y_train, y_test = train_test_split(X,y, random_state=123)\n",
    "Scaler = StandardScaler()\n",
    "X_train = Scaler.fit_transform(X_train)\n",
    "X_test = Scaler.transform(X_test)\n"
   ]
  },
  {
   "cell_type": "code",
   "execution_count": 719,
   "id": "1c99cb85",
   "metadata": {},
   "outputs": [
    {
     "name": "stdout",
     "output_type": "stream",
     "text": [
      "0.8770491803278688\n"
     ]
    }
   ],
   "source": [
    "model = DecisionTreeClassifier(max_depth= 5, random_state= 123, min_samples_leaf=10, ccp_alpha=0.0, max_features= 'sqrt', min_samples_split = 2)\n",
    "model.fit(X_train, y_train)\n",
    "y_pred = model.predict(X_test)\n",
    "\n",
    "acc = accuracy_score(y_test, y_pred)\n",
    "print(acc)"
   ]
  },
  {
   "cell_type": "code",
   "execution_count": 720,
   "id": "c58483a0",
   "metadata": {},
   "outputs": [
    {
     "name": "stdout",
     "output_type": "stream",
     "text": [
      "daysProfit          0.79686\n",
      "DaysBetterThanSP    0.20314\n",
      "dtype: float64\n"
     ]
    }
   ],
   "source": [
    "# Feature Importance\n",
    "feature_names = ['daysProfit', 'DaysBetterThanSP']\n",
    "X_train_df = pd.DataFrame(X_train, columns=feature_names)\n",
    "feature_importance = pd.Series(model.feature_importances_, index=X_train_df.columns).sort_values(ascending=False)\n",
    "print(feature_importance)"
   ]
  },
  {
   "cell_type": "markdown",
   "id": "c47766a5",
   "metadata": {},
   "source": [
    "### Confusion Matrix"
   ]
  },
  {
   "cell_type": "code",
   "execution_count": 721,
   "id": "1380a6cd",
   "metadata": {},
   "outputs": [
    {
     "name": "stdout",
     "output_type": "stream",
     "text": [
      "[[38 16]\n",
      " [10 58]]\n"
     ]
    }
   ],
   "source": [
    "cm = confusion_matrix(y_test, y_pred_class)\n",
    "print(cm)"
   ]
  },
  {
   "cell_type": "code",
   "execution_count": 722,
   "id": "d4aa6480",
   "metadata": {},
   "outputs": [
    {
     "data": {
      "image/png": "[encoded data removed]",
      "text/plain": [
       "<Figure size 640x480 with 2 Axes>"
      ]
     },
     "metadata": {},
     "output_type": "display_data"
    }
   ],
   "source": [
    "class_names = ['Profitable', 'Loss']\n",
    "\n",
    "sns.heatmap(cm, annot=True, cmap='YlGnBu',\n",
    "            xticklabels=class_names, yticklabels=class_names,\n",
    "            linewidths=0.5, linecolor='gray')\n",
    "\n",
    "plt.title('confusion_matrix')\n",
    "plt.xlabel('Predicted Labels')\n",
    "plt.ylabel('True labels')\n",
    "plt.show()"
   ]
  },
  {
   "cell_type": "markdown",
   "id": "08eaf345",
   "metadata": {},
   "source": [
    "## 3. Logistic Regression Classification Modelling\n",
    "---"
   ]
  },
  {
   "cell_type": "markdown",
   "id": "d27c161c",
   "metadata": {},
   "source": [
    "### Features Added"
   ]
  },
  {
   "cell_type": "code",
   "execution_count": 723,
   "id": "672fe77a",
   "metadata": {},
   "outputs": [],
   "source": [
    "X = ipo_data[feature_cols]\n",
    "y = ipo_data.Profitable\n",
    "\n",
    "X_train, X_test, y_train, y_test = train_test_split(X,y, random_state=123)\n",
    "Scaler = StandardScaler()\n",
    "X_train = Scaler.fit_transform(X_train)\n",
    "X_test = Scaler.transform(X_test)"
   ]
  },
  {
   "cell_type": "code",
   "execution_count": 724,
   "id": "c53be284",
   "metadata": {},
   "outputs": [
    {
     "name": "stdout",
     "output_type": "stream",
     "text": [
      "0.8934426229508197\n"
     ]
    }
   ],
   "source": [
    "# Model loaded\n",
    "logreg = LogisticRegression()\n",
    "logreg.fit(X_train, y_train)\n",
    "y_pred = logreg.predict(X_test)\n",
    "\n",
    "acc = accuracy_score(y_test, y_pred)\n",
    "print(acc)"
   ]
  },
  {
   "cell_type": "code",
   "execution_count": 725,
   "id": "ebb1e776",
   "metadata": {},
   "outputs": [
    {
     "name": "stdout",
     "output_type": "stream",
     "text": [
      "daysProfit           1.470206\n",
      "closeDay6            1.295600\n",
      "DaysBetterThanSP     0.658048\n",
      "closeDay179          0.557961\n",
      "closeDay0            0.410486\n",
      "netIncome            0.314902\n",
      "MarketCap            0.191450\n",
      "Year                 0.175671\n",
      "Market6MonthTrend    0.147758\n",
      "MarketMonthTrend     0.139165\n",
      "Market3MonthTrend    0.094513\n",
      "volumeDay0           0.073432\n",
      "employees_x          0.051647\n",
      "dtype: float64\n"
     ]
    }
   ],
   "source": [
    "# Feature Importance\n",
    "feature_names = ['daysProfit', 'DaysBetterThanSP', 'closeDay179', 'netIncome', 'Year',\n",
    "                 'MarketCap', 'employees_x', 'closeDay6', 'Market3MonthTrend',\n",
    "                 'volumeDay0', 'Market6MonthTrend', 'MarketMonthTrend', 'closeDay0']\n",
    "X_train_df = pd.DataFrame(X_train, columns=feature_names)\n",
    "importance = np.abs(logreg.coef_[0])\n",
    "feature_importance = pd.Series(importance, index=X_train_df.columns).sort_values(ascending=False)\n",
    "\n",
    "print(feature_importance)"
   ]
  },
  {
   "cell_type": "markdown",
   "id": "e9e2f2d3",
   "metadata": {},
   "source": [
    "### Confusion Matrix"
   ]
  },
  {
   "cell_type": "code",
   "execution_count": 726,
   "id": "76a0bce3",
   "metadata": {},
   "outputs": [
    {
     "name": "stdout",
     "output_type": "stream",
     "text": [
      "[[38 16]\n",
      " [10 58]]\n"
     ]
    }
   ],
   "source": [
    "cm = confusion_matrix(y_test, y_pred_class)\n",
    "print(cm)"
   ]
  },
  {
   "cell_type": "code",
   "execution_count": 727,
   "id": "ccf6fe55",
   "metadata": {},
   "outputs": [
    {
     "data": {
      "image/png": "[encoded data removed]",
      "text/plain": [
       "<Figure size 640x480 with 2 Axes>"
      ]
     },
     "metadata": {},
     "output_type": "display_data"
    }
   ],
   "source": [
    "class_names = ['Profitable', 'Loss']\n",
    "\n",
    "sns.heatmap(cm, annot=True, cmap='YlGnBu',\n",
    "            xticklabels=class_names, yticklabels=class_names,\n",
    "            linewidths=0.5, linecolor='gray')\n",
    "\n",
    "plt.title('confusion_matrix')\n",
    "plt.xlabel('Predicted Labels')\n",
    "plt.ylabel('True labels')\n",
    "plt.show()"
   ]
  },
  {
   "cell_type": "markdown",
   "id": "0cd49d82",
   "metadata": {},
   "source": [
    "### Found optimal inputs using grid"
   ]
  },
  {
   "cell_type": "code",
   "execution_count": 728,
   "id": "bc122df5",
   "metadata": {},
   "outputs": [
    {
     "name": "stdout",
     "output_type": "stream",
     "text": [
      "Best parameters: {'C': 10, 'solver': 'liblinear'}\n"
     ]
    }
   ],
   "source": [
    "param_grid = {\n",
    "    'C': [0.01, 0.1, 1, 10],\n",
    "    'solver': ['liblinear', 'lbfgs']\n",
    "}\n",
    "\n",
    "grid = GridSearchCV(LogisticRegression(), param_grid, cv=5)\n",
    "grid.fit(X_train, y_train)\n",
    "\n",
    "print(\"Best parameters:\", grid.best_params_)"
   ]
  },
  {
   "cell_type": "code",
   "execution_count": 729,
   "id": "3b32ba77",
   "metadata": {},
   "outputs": [
    {
     "name": "stdout",
     "output_type": "stream",
     "text": [
      "0.8852459016393442\n"
     ]
    }
   ],
   "source": [
    "# Train new model with updated inputs\n",
    "logreg = LogisticRegression(C=10, solver='liblinear')\n",
    "logreg.fit(X_train, y_train)\n",
    "\n",
    "y_pred = logreg.predict(X_test)\n",
    "acc = accuracy_score(y_test, y_pred)\n",
    "print(acc)"
   ]
  },
  {
   "cell_type": "markdown",
   "id": "88477c72",
   "metadata": {},
   "source": [
    "Logistic Regression model 1 has the highest accuracy"
   ]
  }
 ],
 "metadata": {
  "kernelspec": {
   "display_name": "Python 3",
   "language": "python",
   "name": "python3"
  },
  "language_info": {
   "codemirror_mode": {
    "name": "ipython",
    "version": 3
   },
   "file_extension": ".py",
   "mimetype": "text/x-python",
   "name": "python",
   "nbconvert_exporter": "python",
   "pygments_lexer": "ipython3",
   "version": "3.13.4"
  }
 },
 "nbformat": 4,
 "nbformat_minor": 5
}
